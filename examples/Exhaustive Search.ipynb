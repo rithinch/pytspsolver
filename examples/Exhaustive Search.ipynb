{
 "cells": [
  {
   "cell_type": "markdown",
   "metadata": {},
   "source": [
    "# TSP Example - Exhaustive Search"
   ]
  },
  {
   "cell_type": "markdown",
   "metadata": {},
   "source": [
    "**Import the required classes...**"
   ]
  },
  {
   "cell_type": "code",
   "execution_count": 1,
   "metadata": {},
   "outputs": [],
   "source": [
    "from pytspsolver.entities import TSProblem\n",
    "from pytspsolver.experiments import Experiment\n",
    "from pytspsolver.solvers import *\n",
    "from pytspsolver.utilities import create_random_problem"
   ]
  },
  {
   "cell_type": "markdown",
   "metadata": {},
   "source": [
    "**Set up random TSP problems...**"
   ]
  },
  {
   "cell_type": "code",
   "execution_count": 2,
   "metadata": {},
   "outputs": [],
   "source": [
    "problem1 = create_random_problem(3)\n",
    "problem2 = create_random_problem(4)\n",
    "problem3 = create_random_problem(5)"
   ]
  },
  {
   "cell_type": "markdown",
   "metadata": {},
   "source": [
    "**Or simply...**"
   ]
  },
  {
   "cell_type": "code",
   "execution_count": 7,
   "metadata": {},
   "outputs": [],
   "source": [
    "problems = [create_random_problem(i) for i in range(3,10)]"
   ]
  },
  {
   "cell_type": "markdown",
   "metadata": {},
   "source": [
    "**View the Adjacency Matrix of a Problem...**"
   ]
  },
  {
   "cell_type": "code",
   "execution_count": 8,
   "metadata": {},
   "outputs": [
    {
     "name": "stdout",
     "output_type": "stream",
     "text": [
      "      0  1  2\n",
      "    ------------\n",
      " 0 |   0  3 84\n",
      " 1 |   3  0 70\n",
      " 2 |  84 70  0\n",
      "\n"
     ]
    }
   ],
   "source": [
    "print(problem1)"
   ]
  },
  {
   "cell_type": "markdown",
   "metadata": {},
   "source": [
    "**Initialize a few solvers...**"
   ]
  },
  {
   "cell_type": "code",
   "execution_count": 9,
   "metadata": {},
   "outputs": [],
   "source": [
    "exhaustive_search = ExhaustiveSearch(time_limit=50)"
   ]
  },
  {
   "cell_type": "markdown",
   "metadata": {},
   "source": [
    "**Create the Experiment...**"
   ]
  },
  {
   "cell_type": "code",
   "execution_count": 12,
   "metadata": {},
   "outputs": [],
   "source": [
    "experiment = Experiment()"
   ]
  },
  {
   "cell_type": "markdown",
   "metadata": {},
   "source": [
    "**Add problems to solve in the experiment...**"
   ]
  },
  {
   "cell_type": "code",
   "execution_count": 13,
   "metadata": {},
   "outputs": [],
   "source": [
    "experiment.add_problem(problem1) \n",
    "experiment.add_problem(problem2)\n",
    "experiment.add_problem(problem3)"
   ]
  },
  {
   "cell_type": "markdown",
   "metadata": {},
   "source": [
    "**Add solvers to use in the experiment...**"
   ]
  },
  {
   "cell_type": "code",
   "execution_count": 14,
   "metadata": {},
   "outputs": [],
   "source": [
    "experiment.add_solver(exhaustive_search)"
   ]
  },
  {
   "cell_type": "markdown",
   "metadata": {},
   "source": [
    "**Run the experiment desired number of times...**"
   ]
  },
  {
   "cell_type": "code",
   "execution_count": 15,
   "metadata": {},
   "outputs": [
    {
     "data": {
      "text/plain": [
       "{0: [{'details': None,\n",
       "   'best_path': [0, 1, 2, 0],\n",
       "   'cost': 157,\n",
       "   'time': 2.193450927734375e-05,\n",
       "   'time_vs_cost': [(1.5020370483398438e-05, 157),\n",
       "    (2.193450927734375e-05, 157)]},\n",
       "  {'details': None,\n",
       "   'best_path': [0, 2, 1, 3, 0],\n",
       "   'cost': 175,\n",
       "   'time': 2.7894973754882812e-05,\n",
       "   'time_vs_cost': [(7.867813110351562e-06, 211),\n",
       "    (1.2159347534179688e-05, 211),\n",
       "    (1.6927719116210938e-05, 175),\n",
       "    (2.09808349609375e-05, 175),\n",
       "    (2.4080276489257812e-05, 175),\n",
       "    (2.7894973754882812e-05, 175)]},\n",
       "  {'details': None,\n",
       "   'best_path': [0, 2, 1, 4, 3, 0],\n",
       "   'cost': 161,\n",
       "   'time': 9.799003601074219e-05,\n",
       "   'time_vs_cost': [(7.867813110351562e-06, 273),\n",
       "    (1.2159347534179688e-05, 273),\n",
       "    (1.5974044799804688e-05, 273),\n",
       "    (2.002716064453125e-05, 273),\n",
       "    (2.47955322265625e-05, 269),\n",
       "    (3.0040740966796875e-05, 219),\n",
       "    (3.409385681152344e-05, 219),\n",
       "    (3.790855407714844e-05, 161),\n",
       "    (4.1961669921875e-05, 161),\n",
       "    (4.57763671875e-05, 161),\n",
       "    (4.887580871582031e-05, 161),\n",
       "    (5.2928924560546875e-05, 161),\n",
       "    (5.698204040527344e-05, 161),\n",
       "    (6.103515625e-05, 161),\n",
       "    (6.413459777832031e-05, 161),\n",
       "    (6.794929504394531e-05, 161),\n",
       "    (7.200241088867188e-05, 161),\n",
       "    (7.605552673339844e-05, 161),\n",
       "    (7.987022399902344e-05, 161),\n",
       "    (8.392333984375e-05, 161),\n",
       "    (8.702278137207031e-05, 161),\n",
       "    (9.083747863769531e-05, 161),\n",
       "    (9.512901306152344e-05, 161),\n",
       "    (9.799003601074219e-05, 161)]}]}"
      ]
     },
     "execution_count": 15,
     "metadata": {},
     "output_type": "execute_result"
    }
   ],
   "source": [
    "experiment.run(epoch=1)"
   ]
  }
 ],
 "metadata": {
  "kernelspec": {
   "display_name": "Python 3",
   "language": "python",
   "name": "python3"
  },
  "language_info": {
   "codemirror_mode": {
    "name": "ipython",
    "version": 3
   },
   "file_extension": ".py",
   "mimetype": "text/x-python",
   "name": "python",
   "nbconvert_exporter": "python",
   "pygments_lexer": "ipython3",
   "version": "3.7.2"
  }
 },
 "nbformat": 4,
 "nbformat_minor": 2
}
